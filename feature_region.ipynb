{
  "nbformat": 4,
  "nbformat_minor": 0,
  "metadata": {
    "colab": {
      "name": "Untitled1.ipynb",
      "version": "0.3.2",
      "provenance": [],
      "collapsed_sections": [],
      "include_colab_link": true
    },
    "kernelspec": {
      "name": "python3",
      "display_name": "Python 3"
    }
  },
  "cells": [
    {
      "cell_type": "markdown",
      "metadata": {
        "id": "view-in-github",
        "colab_type": "text"
      },
      "source": [
        "<a href=\"https://colab.research.google.com/github/ishita966/2018_snu_hackathon_BitsNBytes/blob/master/feature_region.ipynb\" target=\"_parent\"><img src=\"https://colab.research.google.com/assets/colab-badge.svg\" alt=\"Open In Colab\"/></a>"
      ]
    },
    {
      "metadata": {
        "id": "oPfcFlIXac09",
        "colab_type": "code",
        "colab": {}
      },
      "cell_type": "code",
      "source": [
        "from matplotlib import pyplot as plt\n",
        "from scipy.cluster.hierarchy import dendrogram, linkage\n",
        "import numpy as np\n",
        "import pandas as pd"
      ],
      "execution_count": 0,
      "outputs": []
    },
    {
      "metadata": {
        "id": "W9G5NsopahGQ",
        "colab_type": "code",
        "colab": {}
      },
      "cell_type": "code",
      "source": [
        "# some setting for this notebook to actually show the graphs inline\n",
        "# you probably won't need this\n",
        "%matplotlib inline\n",
        "np.set_printoptions(precision=5, suppress=True)  # suppress scientific float notation"
      ],
      "execution_count": 0,
      "outputs": []
    },
    {
      "metadata": {
        "id": "ush224H7apF2",
        "colab_type": "code",
        "outputId": "8c4e649b-6cf4-4b2e-befb-8b7733973e75",
        "colab": {
          "base_uri": "https://localhost:8080/",
          "height": 3491
        }
      },
      "cell_type": "code",
      "source": [
        "# generate two clusters: a with 100 points, b with 50:\n",
        "#np.random.seed(4711)  # for repeatability of this tutorial\n",
        "#a = np.random.multivariate_normal([10, 0], [[3, 1], [1, 4]], size=[100,])\n",
        "#b = np.random.multivariate_normal([0, 20], [[3, 1], [1, 4]], size=[50,])\n",
        "#X = np.concatenate((a, b),)\n",
        "#print( X.shape)  # 150 samples with 2 dimensions\n",
        "#plt.scatter(X[:,0], X[:,1])\n",
        "#plt.show()\n",
        "\n",
        "\n",
        "train=pd.read_csv(\"Train.csv\")\n",
        "a=train['Region']\n",
        "print(a)\n",
        "a=a[1:200]\n",
        "#print(a)\n",
        "#print(train['Feature1'])\n",
        "df1= train['Feature1']\n",
        "#print(df1)\n",
        "df2= train['Feature2']\n",
        "#print(df2)\n",
        "df3= train['Feature3']\n",
        "#print(df3)\n",
        "df4= train['Feature4']\n",
        "#print(df4)\n",
        "df5= train['Feature5']\n",
        "#print(df5)\n",
        "result = pd.concat([df1,df2,df3, df4,df5], axis=1)\n",
        "#print(result)\n",
        "train['combination']= train.Feature1.map(str)  + train.Feature2.map(str)  + train.Feature3.map(str) +  train.Feature4.map(str)+  train.Feature5.map(str)\n",
        "#print(train['combination'])\n",
        "#print(train)\n",
        "\n",
        "b = (train['Decimal'])\n",
        "print(b)\n",
        "#for i  in range(b.shape[0]):\n",
        " # b[i]= int(b[i],2)\n",
        "b=b[1:200]\n",
        "#b = int((df1+df2+df3+df4+df5),2)\n",
        "#print(b)\n",
        "#df3=1df1.combine_first(df2)\n",
        "#print(df3)\n",
        "#train['concat'] = pd.Series(b[['Feature1', 'Feature2']].fillna('').values.tolist()).str.join('')\n",
        "#b=train['concat']\n",
        "#b=int(np.concatenate((train['Feaure1'],train['Feaure2'],train['Feaure3'],train['Feaure4'],train['Feaure5']),),2)\n",
        "#print(b['concat'])\n",
        "c=train['Combination']\n",
        "X = pd.concat([a,c],axis=1)\n",
        "print(X)\n",
        "#print(X(5,1))\n",
        "print( X.shape)  # 150 samples with 2 dimensions\n",
        "plt.scatter(a[1:20], b[1:20])\n",
        "plt.show()\n",
        "plt.scatter(a[1:80], b[1:80])\n",
        "plt.show()\n",
        "#print(X[:0])\n",
        "#print(X[:1])\n",
        "#plt.scatter(X[:0], X[:1])\n",
        "#plt.show()\n",
        "plt.scatter(a, b,marker='o')\n",
        "plt.show()\n",
        "\n",
        "#print(train)"
      ],
      "execution_count": 100,
      "outputs": [
        {
          "output_type": "stream",
          "text": [
            "0         9\n",
            "1        14\n",
            "2        28\n",
            "3        15\n",
            "4        35\n",
            "5        23\n",
            "6        23\n",
            "7         3\n",
            "8        35\n",
            "9        22\n",
            "10       38\n",
            "11        9\n",
            "12        1\n",
            "13       36\n",
            "14       24\n",
            "15        9\n",
            "16       18\n",
            "17       34\n",
            "18        6\n",
            "19        9\n",
            "20       10\n",
            "21       24\n",
            "22       18\n",
            "23       11\n",
            "24       37\n",
            "25       19\n",
            "26       26\n",
            "27       20\n",
            "28       31\n",
            "29        5\n",
            "         ..\n",
            "18258    14\n",
            "18259     5\n",
            "18260    35\n",
            "18261    13\n",
            "18262    12\n",
            "18263    29\n",
            "18264    20\n",
            "18265    35\n",
            "18266     5\n",
            "18267    30\n",
            "18268    25\n",
            "18269    12\n",
            "18270    13\n",
            "18271    37\n",
            "18272    16\n",
            "18273    24\n",
            "18274    34\n",
            "18275    33\n",
            "18276    29\n",
            "18277    21\n",
            "18278    34\n",
            "18279    11\n",
            "18280    38\n",
            "18281     2\n",
            "18282    25\n",
            "18283    22\n",
            "18284    26\n",
            "18285    16\n",
            "18286     4\n",
            "18287    16\n",
            "Name: Region, Length: 18288, dtype: int64\n",
            "0        26\n",
            "1        17\n",
            "2        23\n",
            "3        27\n",
            "4        17\n",
            "5        27\n",
            "6        23\n",
            "7        17\n",
            "8        25\n",
            "9        31\n",
            "10       31\n",
            "11       27\n",
            "12       29\n",
            "13       31\n",
            "14       19\n",
            "15       25\n",
            "16       17\n",
            "17       29\n",
            "18       21\n",
            "19       21\n",
            "20       23\n",
            "21       31\n",
            "22       25\n",
            "23       21\n",
            "24       29\n",
            "25       29\n",
            "26       19\n",
            "27       23\n",
            "28       29\n",
            "29       29\n",
            "         ..\n",
            "18258     9\n",
            "18259    29\n",
            "18260     3\n",
            "18261    30\n",
            "18262    18\n",
            "18263     2\n",
            "18264     5\n",
            "18265     5\n",
            "18266    19\n",
            "18267    24\n",
            "18268     0\n",
            "18269    30\n",
            "18270    28\n",
            "18271     7\n",
            "18272    10\n",
            "18273    11\n",
            "18274    23\n",
            "18275     6\n",
            "18276     1\n",
            "18277     7\n",
            "18278    23\n",
            "18279     5\n",
            "18280    19\n",
            "18281    16\n",
            "18282    21\n",
            "18283    25\n",
            "18284    25\n",
            "18285    13\n",
            "18286    31\n",
            "18287      \n",
            "Name: Decimal, Length: 18288, dtype: object\n",
            "       Region  Combination\n",
            "0         NaN        11010\n",
            "1        14.0        10001\n",
            "2        28.0        10111\n",
            "3        15.0        11011\n",
            "4        35.0        10001\n",
            "5        23.0        11011\n",
            "6        23.0        10111\n",
            "7         3.0        10001\n",
            "8        35.0        11001\n",
            "9        22.0        11111\n",
            "10       38.0        11111\n",
            "11        9.0        11011\n",
            "12        1.0        11101\n",
            "13       36.0        11111\n",
            "14       24.0        10011\n",
            "15        9.0        11001\n",
            "16       18.0        10001\n",
            "17       34.0        11101\n",
            "18        6.0        10101\n",
            "19        9.0        10101\n",
            "20       10.0        10111\n",
            "21       24.0        11111\n",
            "22       18.0        11001\n",
            "23       11.0        10101\n",
            "24       37.0        11101\n",
            "25       19.0        11101\n",
            "26       26.0        10011\n",
            "27       20.0        10111\n",
            "28       31.0        11101\n",
            "29        5.0        11101\n",
            "...       ...          ...\n",
            "18258     NaN         1001\n",
            "18259     NaN        11101\n",
            "18260     NaN           11\n",
            "18261     NaN        11110\n",
            "18262     NaN        10010\n",
            "18263     NaN           10\n",
            "18264     NaN          101\n",
            "18265     NaN          101\n",
            "18266     NaN        10011\n",
            "18267     NaN        11000\n",
            "18268     NaN            0\n",
            "18269     NaN        11110\n",
            "18270     NaN        11100\n",
            "18271     NaN          111\n",
            "18272     NaN         1010\n",
            "18273     NaN         1011\n",
            "18274     NaN        10111\n",
            "18275     NaN          110\n",
            "18276     NaN            1\n",
            "18277     NaN          111\n",
            "18278     NaN        10111\n",
            "18279     NaN          101\n",
            "18280     NaN        10011\n",
            "18281     NaN        10000\n",
            "18282     NaN        10101\n",
            "18283     NaN        11001\n",
            "18284     NaN        11001\n",
            "18285     NaN         1101\n",
            "18286     NaN        11111\n",
            "18287     NaN        10101\n",
            "\n",
            "[18288 rows x 2 columns]\n",
            "(18288, 2)\n"
          ],
          "name": "stdout"
        },
        {
          "output_type": "display_data",
          "data": {
            "image/png": "[encoded data removed]",
            "text/plain": [
              "<matplotlib.figure.Figure at 0x7f7973a66588>"
            ]
          },
          "metadata": {
            "tags": []
          }
        }
      ]
    },
    {
      "metadata": {
        "id": "d2UUs5iNat_t",
        "colab_type": "code",
        "colab": {
          "base_uri": "https://localhost:8080/",
          "height": 282
        },
        "outputId": "289388aa-09aa-44ed-b7f6-bf9dc90bcebe"
      },
      "cell_type": "code",
      "source": [
        "# generate the linkage matrix\n",
        "Z = linkage(X, 'ward')"
      ],
      "execution_count": 101,
      "outputs": [
        {
          "output_type": "error",
          "ename": "ValueError",
          "evalue": "ignored",
          "traceback": [
            "\u001b[0;31m---------------------------------------------------------------------------\u001b[0m",
            "\u001b[0;31mValueError\u001b[0m                                Traceback (most recent call last)",
            "\u001b[0;32m<ipython-input-101-2ca358c69d2b>\u001b[0m in \u001b[0;36m<module>\u001b[0;34m()\u001b[0m\n\u001b[0;32m----> 1\u001b[0;31m \u001b[0mZ\u001b[0m \u001b[0;34m=\u001b[0m \u001b[0mlinkage\u001b[0m\u001b[0;34m(\u001b[0m\u001b[0mX\u001b[0m\u001b[0;34m,\u001b[0m \u001b[0;34m'ward'\u001b[0m\u001b[0;34m)\u001b[0m\u001b[0;34m\u001b[0m\u001b[0m\n\u001b[0m",
            "\u001b[0;32m/usr/local/lib/python3.6/dist-packages/scipy/cluster/hierarchy.py\u001b[0m in \u001b[0;36mlinkage\u001b[0;34m(y, method, metric, optimal_ordering)\u001b[0m\n\u001b[1;32m    711\u001b[0m \u001b[0;34m\u001b[0m\u001b[0m\n\u001b[1;32m    712\u001b[0m     \u001b[0;32mif\u001b[0m \u001b[0;32mnot\u001b[0m \u001b[0mnp\u001b[0m\u001b[0;34m.\u001b[0m\u001b[0mall\u001b[0m\u001b[0;34m(\u001b[0m\u001b[0mnp\u001b[0m\u001b[0;34m.\u001b[0m\u001b[0misfinite\u001b[0m\u001b[0;34m(\u001b[0m\u001b[0my\u001b[0m\u001b[0;34m)\u001b[0m\u001b[0;34m)\u001b[0m\u001b[0;34m:\u001b[0m\u001b[0;34m\u001b[0m\u001b[0m\n\u001b[0;32m--> 713\u001b[0;31m         raise ValueError(\"The condensed distance matrix must contain only \"\n\u001b[0m\u001b[1;32m    714\u001b[0m                          \"finite values.\")\n\u001b[1;32m    715\u001b[0m \u001b[0;34m\u001b[0m\u001b[0m\n",
            "\u001b[0;31mValueError\u001b[0m: The condensed distance matrix must contain only finite values."
          ]
        }
      ]
    },
    {
      "metadata": {
        "id": "Xzqz-u3IbO5o",
        "colab_type": "code",
        "colab": {}
      },
      "cell_type": "code",
      "source": [
        "from scipy.cluster.hierarchy import cophenet\n",
        "from scipy.spatial.distance import pdist\n",
        "\n",
        "c, coph_dists = cophenet(Z, pdist(X))\n",
        "c"
      ],
      "execution_count": 0,
      "outputs": []
    },
    {
      "metadata": {
        "id": "M5e4Oal8bSXc",
        "colab_type": "code",
        "colab": {}
      },
      "cell_type": "code",
      "source": [
        "Z[0]"
      ],
      "execution_count": 0,
      "outputs": []
    },
    {
      "metadata": {
        "id": "KOKQWUfZbYXp",
        "colab_type": "code",
        "colab": {}
      },
      "cell_type": "code",
      "source": [
        "Z[1]"
      ],
      "execution_count": 0,
      "outputs": []
    },
    {
      "metadata": {
        "id": "2-vr0jG-baCj",
        "colab_type": "code",
        "colab": {}
      },
      "cell_type": "code",
      "source": [
        "Z[0:20]"
      ],
      "execution_count": 0,
      "outputs": []
    },
    {
      "metadata": {
        "id": "QwKo0Jy3bd4X",
        "colab_type": "code",
        "colab": {}
      },
      "cell_type": "code",
      "source": [
        "a[[8, 16, 17]]\n",
        "b[[8,16,17]]"
      ],
      "execution_count": 0,
      "outputs": []
    },
    {
      "metadata": {
        "id": "GFYhgkOJbsOh",
        "colab_type": "code",
        "colab": {}
      },
      "cell_type": "code",
      "source": [
        "idxs = [1, 70, 62]\n",
        "plt.figure(figsize=(10, 8))\n",
        "plt.scatter(a, b)  # plot all points\n",
        "plt.scatter(a[idxs], a[idxs], c='r')  # plot interesting points in red again\n",
        "plt.show()"
      ],
      "execution_count": 0,
      "outputs": []
    },
    {
      "metadata": {
        "id": "NuNba3NMbvsu",
        "colab_type": "code",
        "colab": {}
      },
      "cell_type": "code",
      "source": [
        "idxs = [1, 70, 62]\n",
        "plt.figure(figsize=(10, 8))\n",
        "plt.scatter(a, b)\n",
        "plt.scatter(a[idxs], a[idxs], c='r')\n",
        "idxs = [15, 69, 41]\n",
        "plt.scatter(a[idxs], a[idxs], c='y')\n",
        "plt.show()"
      ],
      "execution_count": 0,
      "outputs": []
    },
    {
      "metadata": {
        "id": "uPANOCQzb2fs",
        "colab_type": "code",
        "colab": {}
      },
      "cell_type": "code",
      "source": [
        "# calculate full dendrogram\n",
        "plt.figure(figsize=(25, 10))\n",
        "plt.title('Hierarchical Clustering Dendrogram')\n",
        "plt.xlabel('sample index')\n",
        "plt.ylabel('distance')\n",
        "dendrogram(\n",
        "    Z,\n",
        "    leaf_rotation=90.,  # rotates the x axis labels\n",
        "    leaf_font_size=8.,  # font size for the x axis labels\n",
        ")\n",
        "plt.show()"
      ],
      "execution_count": 0,
      "outputs": []
    },
    {
      "metadata": {
        "id": "Eaeq4NQYb6uq",
        "colab_type": "code",
        "colab": {}
      },
      "cell_type": "code",
      "source": [
        "Z[-4:,2]"
      ],
      "execution_count": 0,
      "outputs": []
    },
    {
      "metadata": {
        "id": "CL2lxVDkcdXE",
        "colab_type": "code",
        "colab": {}
      },
      "cell_type": "code",
      "source": [
        "plt.title('Hierarchical Clustering Dendrogram (truncated)')\n",
        "plt.xlabel('sample index')\n",
        "plt.ylabel('distance')\n",
        "dendrogram(\n",
        "    Z,\n",
        "    truncate_mode='lastp',  # show only the last p merged clusters\n",
        "    p=12,  # show only the last p merged clusters\n",
        "    show_leaf_counts=False,  # otherwise numbers in brackets are counts\n",
        "    leaf_rotation=90.,\n",
        "    leaf_font_size=12.,\n",
        "    show_contracted=True,  # to get a distribution impression in truncated branches\n",
        ")\n",
        "plt.show()"
      ],
      "execution_count": 0,
      "outputs": []
    },
    {
      "metadata": {
        "id": "ampdamhCchU_",
        "colab_type": "code",
        "colab": {}
      },
      "cell_type": "code",
      "source": [
        "plt.title('Hierarchical Clustering Dendrogram (truncated)')\n",
        "plt.xlabel('sample index or (cluster size)')\n",
        "plt.ylabel('distance')\n",
        "dendrogram(\n",
        "    Z,\n",
        "    truncate_mode='lastp',  # show only the last p merged clusters\n",
        "    p=12,  # show only the last p merged clusters\n",
        "    leaf_rotation=90.,\n",
        "    leaf_font_size=12.,\n",
        "    show_contracted=True,  # to get a distribution impression in truncated branches\n",
        ")\n",
        "\n",
        "plt.show()"
      ],
      "execution_count": 0,
      "outputs": []
    },
    {
      "metadata": {
        "id": "PBh7VdOmclWP",
        "colab_type": "code",
        "colab": {}
      },
      "cell_type": "code",
      "source": [
        "def fancy_dendrogram(*args, **kwargs):\n",
        "    max_d = kwargs.pop('max_d', None)\n",
        "    if max_d and 'color_threshold' not in kwargs:\n",
        "        kwargs['color_threshold'] = max_d\n",
        "    annotate_above = kwargs.pop('annotate_above', 0)\n",
        "\n",
        "    ddata = dendrogram(*args, **kwargs)\n",
        "\n",
        "    if not kwargs.get('no_plot', False):\n",
        "        plt.title('Hierarchical Clustering Dendrogram (truncated)')\n",
        "        plt.xlabel('sample index or (cluster size)')\n",
        "        plt.ylabel('distance')\n",
        "        for i, d, c in zip(ddata['icoord'], ddata['dcoord'], ddata['color_list']):\n",
        "            x = 0.5 * sum(i[1:3])\n",
        "            y = d[1]\n",
        "            if y > annotate_above:\n",
        "                plt.plot(x, y, 'o', c=c)\n",
        "                plt.annotate(\"%.3g\" % y, (x, y), xytext=(0, -5),\n",
        "                             textcoords='offset points',\n",
        "                             va='top', ha='center')\n",
        "        if max_d:\n",
        "            plt.axhline(y=max_d, c='k')\n",
        "    return ddata"
      ],
      "execution_count": 0,
      "outputs": []
    },
    {
      "metadata": {
        "id": "L1jHeDEwcumF",
        "colab_type": "code",
        "colab": {}
      },
      "cell_type": "code",
      "source": [
        "fancy_dendrogram(\n",
        "    Z,\n",
        "    truncate_mode='lastp',\n",
        "    p=12,\n",
        "    leaf_rotation=90.,\n",
        "    leaf_font_size=12.,\n",
        "    show_contracted=True,\n",
        "    annotate_above=10,  # useful in small plots so annotations don't overlap\n",
        ")\n",
        "plt.show()"
      ],
      "execution_count": 0,
      "outputs": []
    },
    {
      "metadata": {
        "id": "wbGgpMtmcx2Z",
        "colab_type": "code",
        "colab": {}
      },
      "cell_type": "code",
      "source": [
        "# set cut-off to 50\n",
        "max_d = 50  # max_d as in max_distance"
      ],
      "execution_count": 0,
      "outputs": []
    },
    {
      "metadata": {
        "id": "zmVnKgEdc1eF",
        "colab_type": "code",
        "colab": {}
      },
      "cell_type": "code",
      "source": [
        "fancy_dendrogram(\n",
        "    Z,\n",
        "    truncate_mode='lastp',\n",
        "    p=12,\n",
        "    leaf_rotation=90.,\n",
        "    leaf_font_size=12.,\n",
        "    show_contracted=True,\n",
        "    annotate_above=10,\n",
        "    max_d=max_d,  # plot a horizontal cut-off line\n",
        ")\n",
        "plt.show()"
      ],
      "execution_count": 0,
      "outputs": []
    },
    {
      "metadata": {
        "id": "hFJJSXZFc4LM",
        "colab_type": "code",
        "colab": {}
      },
      "cell_type": "code",
      "source": [
        "from scipy.cluster.hierarchy import inconsistent\n",
        "\n",
        "depth = 5\n",
        "incons = inconsistent(Z, depth)\n",
        "incons[-10:]"
      ],
      "execution_count": 0,
      "outputs": []
    },
    {
      "metadata": {
        "id": "p1_VNzk3dBoc",
        "colab_type": "code",
        "colab": {}
      },
      "cell_type": "code",
      "source": [
        "depth = 3\n",
        "incons = inconsistent(Z, depth)\n",
        "incons[-10:]"
      ],
      "execution_count": 0,
      "outputs": []
    },
    {
      "metadata": {
        "id": "BZVrbcGRdFea",
        "colab_type": "code",
        "colab": {}
      },
      "cell_type": "code",
      "source": [
        "last = Z[-10:, 2]\n",
        "last_rev = last[::-1]\n",
        "idxs = np.arange(1, len(last) + 1)\n",
        "plt.plot(idxs, last_rev)\n",
        "\n",
        "acceleration = np.diff(last, 2)  # 2nd derivative of the distances\n",
        "acceleration_rev = acceleration[::-1]\n",
        "plt.plot(idxs[:-2] + 1, acceleration_rev)\n",
        "plt.show()\n",
        "k = acceleration_rev.argmax() + 2  # if idx 0 is the max of this we want 2 clusters\n",
        "print (\"clusters:\", k)\n"
      ],
      "execution_count": 0,
      "outputs": []
    },
    {
      "metadata": {
        "id": "TXT_BHCGdJGh",
        "colab_type": "code",
        "colab": {}
      },
      "cell_type": "code",
      "source": [
        "c = np.random.multivariate_normal([40, 40], [[20, 1], [1, 30]], size=[200,])\n",
        "d = np.random.multivariate_normal([80, 80], [[30, 1], [1, 30]], size=[200,])\n",
        "e = np.random.multivariate_normal([0, 100], [[100, 1], [1, 100]], size=[200,])\n",
        "X2 = np.concatenate((X, c, d, e),)\n",
        "plt.scatter(X2[:,0], X2[:,1])\n",
        "plt.show()"
      ],
      "execution_count": 0,
      "outputs": []
    },
    {
      "metadata": {
        "id": "5R4HvVmJdS0j",
        "colab_type": "code",
        "colab": {}
      },
      "cell_type": "code",
      "source": [
        "Z2 = linkage(X2, 'ward')\n",
        "plt.figure(figsize=(10,10))\n",
        "fancy_dendrogram(\n",
        "    Z2,\n",
        "    truncate_mode='lastp',\n",
        "    p=30,\n",
        "    leaf_rotation=90.,\n",
        "    leaf_font_size=12.,\n",
        "    show_contracted=True,\n",
        "    annotate_above=40,\n",
        "    max_d=170,\n",
        ")\n",
        "plt.show()\n"
      ],
      "execution_count": 0,
      "outputs": []
    },
    {
      "metadata": {
        "id": "9tiZG_BWdV3g",
        "colab_type": "code",
        "colab": {}
      },
      "cell_type": "code",
      "source": [
        "last = Z2[-10:, 2]\n",
        "last_rev = last[::-1]\n",
        "idxs = np.arange(1, len(last) + 1)\n",
        "plt.plot(idxs, last_rev)\n",
        "\n",
        "acceleration = np.diff(last, 2)  # 2nd derivative of the distances\n",
        "acceleration_rev = acceleration[::-1]\n",
        "plt.plot(idxs[:-2] + 1, acceleration_rev)\n",
        "plt.show()\n",
        "k = acceleration_rev.argmax() + 2  # if idx 0 is the max of this we want 2 clusters\n",
        "print (\"clusters:\", k)"
      ],
      "execution_count": 0,
      "outputs": []
    },
    {
      "metadata": {
        "id": "dPnSJEpFdY74",
        "colab_type": "code",
        "colab": {}
      },
      "cell_type": "code",
      "source": [
        "print (inconsistent(Z2, 5)[-10:])"
      ],
      "execution_count": 0,
      "outputs": []
    },
    {
      "metadata": {
        "id": "MIE3CDUKdfRd",
        "colab_type": "code",
        "colab": {}
      },
      "cell_type": "code",
      "source": [
        "from scipy.cluster.hierarchy import fcluster\n",
        "max_d = 50\n",
        "clusters = fcluster(Z, max_d, criterion='distance')\n",
        "clusters"
      ],
      "execution_count": 0,
      "outputs": []
    },
    {
      "metadata": {
        "id": "dZWqEohFdlO-",
        "colab_type": "code",
        "colab": {}
      },
      "cell_type": "code",
      "source": [
        "k=2\n",
        "fcluster(Z, k, criterion='maxclust')"
      ],
      "execution_count": 0,
      "outputs": []
    },
    {
      "metadata": {
        "id": "D8JF2dyvdqrI",
        "colab_type": "code",
        "colab": {}
      },
      "cell_type": "code",
      "source": [
        "from scipy.cluster.hierarchy import fcluster\n",
        "fcluster(Z, 8, depth=10)\n"
      ],
      "execution_count": 0,
      "outputs": []
    },
    {
      "metadata": {
        "id": "O3z1C9s2dtzi",
        "colab_type": "code",
        "colab": {}
      },
      "cell_type": "code",
      "source": [
        "plt.figure(figsize=(10, 8))\n",
        "\n",
        "   \n",
        "plt.scatter(a, b, c=clusters, cmap='prism')  # plot points with cluster dependent colors\n",
        "plt.show()"
      ],
      "execution_count": 0,
      "outputs": []
    },
    {
      "metadata": {
        "id": "4OIIUz-DdwfP",
        "colab_type": "code",
        "colab": {}
      },
      "cell_type": "code",
      "source": [
        "final=fcluster(Z,8)"
      ],
      "execution_count": 0,
      "outputs": []
    },
    {
      "metadata": {
        "id": "XA2MoESEfLMH",
        "colab_type": "code",
        "colab": {}
      },
      "cell_type": "code",
      "source": [
        "final[3]"
      ],
      "execution_count": 0,
      "outputs": []
    },
    {
      "metadata": {
        "id": "vWFXY_Agf8Wj",
        "colab_type": "code",
        "colab": {}
      },
      "cell_type": "code",
      "source": [
        "final[1:4]"
      ],
      "execution_count": 0,
      "outputs": []
    },
    {
      "metadata": {
        "id": "YhkLGUvEgDHs",
        "colab_type": "code",
        "colab": {}
      },
      "cell_type": "code",
      "source": [
        ""
      ],
      "execution_count": 0,
      "outputs": []
    }
  ]
}